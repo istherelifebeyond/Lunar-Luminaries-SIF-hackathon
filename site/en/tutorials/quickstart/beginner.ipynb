{
  "cells": [
    {
      "cell_type": "code",
      "source": [
        "import pandas as pd\n",
        "import numpy as np\n",
        "from sklearn.model_selection import train_test_split, cross_val_score\n",
        "from sklearn.metrics import mean_absolute_error\n",
        "from sklearn.impute import SimpleImputer\n",
        "from xgboost import XGBRegressor\n",
        "from skopt import BayesSearchCV\n",
        "from sklearn.pipeline import Pipeline\n",
        "from sklearn.preprocessing import StandardScaler\n",
        "from sklearn.compose import ColumnTransformer\n",
        "from sklearn.preprocessing import OneHotEncoder\n"
      ],
      "metadata": {
        "id": "uEkmUnS0zV8-"
      },
      "execution_count": 4,
      "outputs": []
    },
    {
      "cell_type": "code",
      "source": [
        "pip install scikit-optimize"
      ],
      "metadata": {
        "collapsed": true,
        "colab": {
          "base_uri": "https://localhost:8080/"
        },
        "id": "ukaAjISd0E-u",
        "outputId": "9c6db398-38d6-456e-b694-17736c962558"
      },
      "execution_count": 3,
      "outputs": [
        {
          "output_type": "stream",
          "name": "stdout",
          "text": [
            "Collecting scikit-optimize\n",
            "  Downloading scikit_optimize-0.10.2-py2.py3-none-any.whl.metadata (9.7 kB)\n",
            "Requirement already satisfied: joblib>=0.11 in /usr/local/lib/python3.10/dist-packages (from scikit-optimize) (1.4.2)\n",
            "Collecting pyaml>=16.9 (from scikit-optimize)\n",
            "  Downloading pyaml-24.7.0-py3-none-any.whl.metadata (11 kB)\n",
            "Requirement already satisfied: numpy>=1.20.3 in /usr/local/lib/python3.10/dist-packages (from scikit-optimize) (1.26.4)\n",
            "Requirement already satisfied: scipy>=1.1.0 in /usr/local/lib/python3.10/dist-packages (from scikit-optimize) (1.13.1)\n",
            "Requirement already satisfied: scikit-learn>=1.0.0 in /usr/local/lib/python3.10/dist-packages (from scikit-optimize) (1.3.2)\n",
            "Requirement already satisfied: packaging>=21.3 in /usr/local/lib/python3.10/dist-packages (from scikit-optimize) (24.1)\n",
            "Requirement already satisfied: PyYAML in /usr/local/lib/python3.10/dist-packages (from pyaml>=16.9->scikit-optimize) (6.0.2)\n",
            "Requirement already satisfied: threadpoolctl>=2.0.0 in /usr/local/lib/python3.10/dist-packages (from scikit-learn>=1.0.0->scikit-optimize) (3.5.0)\n",
            "Downloading scikit_optimize-0.10.2-py2.py3-none-any.whl (107 kB)\n",
            "\u001b[2K   \u001b[90m━━━━━━━━━━━━━━━━━━━━━━━━━━━━━━━━━━━━━━━━\u001b[0m \u001b[32m107.8/107.8 kB\u001b[0m \u001b[31m10.8 MB/s\u001b[0m eta \u001b[36m0:00:00\u001b[0m\n",
            "\u001b[?25hDownloading pyaml-24.7.0-py3-none-any.whl (24 kB)\n",
            "Installing collected packages: pyaml, scikit-optimize\n",
            "Successfully installed pyaml-24.7.0 scikit-optimize-0.10.2\n"
          ]
        }
      ]
    },
    {
      "cell_type": "code",
      "source": [
        "pip install scikit-learn"
      ],
      "metadata": {
        "collapsed": true,
        "colab": {
          "base_uri": "https://localhost:8080/"
        },
        "id": "mKO5QvhN0bBX",
        "outputId": "195dfdbf-43d4-4296-cc30-431e031c6418"
      },
      "execution_count": 2,
      "outputs": [
        {
          "output_type": "stream",
          "name": "stdout",
          "text": [
            "Requirement already satisfied: scikit-learn in /usr/local/lib/python3.10/dist-packages (1.3.2)\n",
            "Requirement already satisfied: numpy<2.0,>=1.17.3 in /usr/local/lib/python3.10/dist-packages (from scikit-learn) (1.26.4)\n",
            "Requirement already satisfied: scipy>=1.5.0 in /usr/local/lib/python3.10/dist-packages (from scikit-learn) (1.13.1)\n",
            "Requirement already satisfied: joblib>=1.1.1 in /usr/local/lib/python3.10/dist-packages (from scikit-learn) (1.4.2)\n",
            "Requirement already satisfied: threadpoolctl>=2.0.0 in /usr/local/lib/python3.10/dist-packages (from scikit-learn) (3.5.0)\n"
          ]
        }
      ]
    },
    {
      "cell_type": "code",
      "source": [
        "# Load the dataset\n",
        "df = pd.read_csv('/content/TrainingSet.csv')\n",
        "\n",
        "# Define target and features\n",
        "target = 'TAVG'\n",
        "X = df.drop(columns=[target])\n",
        "y = df[target]\n",
        "\n",
        "# Handling missing values using SimpleImputer\n",
        "numeric_features = X.select_dtypes(include=[np.number]).columns\n",
        "categorical_features = X.select_dtypes(exclude=[np.number]).columns\n",
        "\n",
        "numeric_transformer = Pipeline(steps=[\n",
        "    ('imputer', SimpleImputer(strategy='mean')),\n",
        "    ('scaler', StandardScaler())\n",
        "])\n",
        "\n",
        "categorical_transformer = Pipeline(steps=[\n",
        "    ('imputer', SimpleImputer(strategy='most_frequent')),\n",
        "    ('onehot', OneHotEncoder(handle_unknown='ignore'))\n",
        "])\n",
        "\n",
        "preprocessor = ColumnTransformer(\n",
        "    transformers=[\n",
        "        ('num', numeric_transformer, numeric_features),\n",
        "        ('cat', categorical_transformer, categorical_features)\n",
        "    ])\n",
        "\n",
        "# Split the dataset into training and testing sets\n",
        "X_train, X_test, y_train, y_test = train_test_split(X, y, test_size=0.1, random_state=42)\n"
      ],
      "metadata": {
        "id": "6AjaK_xl0ei4"
      },
      "execution_count": 15,
      "outputs": []
    },
    {
      "cell_type": "code",
      "source": [
        "# Define the model\n",
        "model = XGBRegressor(objective='reg:squarederror', random_state=42,tree_method='gpu_hist', predictor='gpu_predictor')\n",
        "\n",
        "# Define hyperparameter space for Bayesian optimization\n",
        "param_space = {\n",
        "    'n_estimators': (100, 1000),\n",
        "    'max_depth': (3, 10),\n",
        "    'learning_rate': (0.01, 0.3),\n",
        "    'subsample': (0.5, 1.0),\n",
        "    'colsample_bytree': (0.5, 1.0),\n",
        "    'gamma': (0, 0.5),\n",
        "    'reg_alpha': (0, 10),\n",
        "    'reg_lambda': (0, 10)\n",
        "}"
      ],
      "metadata": {
        "id": "MTTctf6_0yu-"
      },
      "execution_count": 16,
      "outputs": []
    },
    {
      "cell_type": "code",
      "source": [
        "# Define the Bayesian search\n",
        "opt = BayesSearchCV(\n",
        "    estimator=model,\n",
        "    search_spaces=param_space,\n",
        "    n_iter=50,\n",
        "    cv=3,\n",
        "    scoring='neg_mean_absolute_error',\n",
        "    n_jobs=-1,\n",
        "    verbose=0,\n",
        "    random_state=42\n",
        ")\n",
        "\n",
        "# Create a pipeline that preprocesses data and applies the model\n",
        "pipeline = Pipeline(steps=[('preprocessor', preprocessor),\n",
        "                           ('opt', opt)])"
      ],
      "metadata": {
        "id": "oCDFBdiS01aG"
      },
      "execution_count": 17,
      "outputs": []
    },
    {
      "cell_type": "code",
      "source": [
        "\n",
        "# Train the model with Bayesian optimization\n",
        "pipeline.fit(X_train, y_train)\n"
      ],
      "metadata": {
        "colab": {
          "base_uri": "https://localhost:8080/",
          "height": 469
        },
        "id": "VG2C6G2N04_5",
        "outputId": "d7046cb5-18ae-4a61-a43b-104bd352ce5c"
      },
      "execution_count": 18,
      "outputs": [
        {
          "output_type": "stream",
          "name": "stderr",
          "text": [
            "/usr/local/lib/python3.10/dist-packages/xgboost/core.py:158: UserWarning: [15:12:39] WARNING: /workspace/src/common/error_msg.cc:27: The tree method `gpu_hist` is deprecated since 2.0.0. To use GPU training, set the `device` parameter to CUDA instead.\n",
            "\n",
            "    E.g. tree_method = \"hist\", device = \"cuda\"\n",
            "\n",
            "  warnings.warn(smsg, UserWarning)\n",
            "/usr/local/lib/python3.10/dist-packages/xgboost/core.py:158: UserWarning: [15:12:39] WARNING: /workspace/src/learner.cc:740: \n",
            "Parameters: { \"predictor\" } are not used.\n",
            "\n",
            "  warnings.warn(smsg, UserWarning)\n"
          ]
        },
        {
          "output_type": "execute_result",
          "data": {
            "text/plain": [
              "Pipeline(steps=[('preprocessor',\n",
              "                 ColumnTransformer(transformers=[('num',\n",
              "                                                  Pipeline(steps=[('imputer',\n",
              "                                                                   SimpleImputer()),\n",
              "                                                                  ('scaler',\n",
              "                                                                   StandardScaler())]),\n",
              "                                                  Index(['PRCP_A', 'SNWD_A', 'TMAX_A', 'TMIN_A', 'TAVG_A', 'PRCP_B', 'SNWD_B',\n",
              "       'TMAX_B', 'TMIN_B', 'TAVG_B', 'PRCP_C', 'SNWD_C', 'TMAX_C', 'TMIN_C',\n",
              "       'TAVG_C', 'day', 'month', 'year'],\n",
              "      dtype='object')),\n",
              "                                                 ('cat',\n",
              "                                                  Pipeline(steps=[(...\n",
              "                                                      multi_strategy=None,\n",
              "                                                      n_estimators=None,\n",
              "                                                      n_jobs=None,\n",
              "                                                      num_parallel_tree=None,\n",
              "                                                      predictor='gpu_predictor', ...),\n",
              "                               n_jobs=-1, random_state=42,\n",
              "                               scoring='neg_mean_absolute_error',\n",
              "                               search_spaces={'colsample_bytree': (0.5, 1.0),\n",
              "                                              'gamma': (0, 0.5),\n",
              "                                              'learning_rate': (0.01, 0.3),\n",
              "                                              'max_depth': (3, 10),\n",
              "                                              'n_estimators': (100, 1000),\n",
              "                                              'reg_alpha': (0, 10),\n",
              "                                              'reg_lambda': (0, 10),\n",
              "                                              'subsample': (0.5, 1.0)}))])"
            ],
            "text/html": [
              "<style>#sk-container-id-2 {color: black;}#sk-container-id-2 pre{padding: 0;}#sk-container-id-2 div.sk-toggleable {background-color: white;}#sk-container-id-2 label.sk-toggleable__label {cursor: pointer;display: block;width: 100%;margin-bottom: 0;padding: 0.3em;box-sizing: border-box;text-align: center;}#sk-container-id-2 label.sk-toggleable__label-arrow:before {content: \"▸\";float: left;margin-right: 0.25em;color: #696969;}#sk-container-id-2 label.sk-toggleable__label-arrow:hover:before {color: black;}#sk-container-id-2 div.sk-estimator:hover label.sk-toggleable__label-arrow:before {color: black;}#sk-container-id-2 div.sk-toggleable__content {max-height: 0;max-width: 0;overflow: hidden;text-align: left;background-color: #f0f8ff;}#sk-container-id-2 div.sk-toggleable__content pre {margin: 0.2em;color: black;border-radius: 0.25em;background-color: #f0f8ff;}#sk-container-id-2 input.sk-toggleable__control:checked~div.sk-toggleable__content {max-height: 200px;max-width: 100%;overflow: auto;}#sk-container-id-2 input.sk-toggleable__control:checked~label.sk-toggleable__label-arrow:before {content: \"▾\";}#sk-container-id-2 div.sk-estimator input.sk-toggleable__control:checked~label.sk-toggleable__label {background-color: #d4ebff;}#sk-container-id-2 div.sk-label input.sk-toggleable__control:checked~label.sk-toggleable__label {background-color: #d4ebff;}#sk-container-id-2 input.sk-hidden--visually {border: 0;clip: rect(1px 1px 1px 1px);clip: rect(1px, 1px, 1px, 1px);height: 1px;margin: -1px;overflow: hidden;padding: 0;position: absolute;width: 1px;}#sk-container-id-2 div.sk-estimator {font-family: monospace;background-color: #f0f8ff;border: 1px dotted black;border-radius: 0.25em;box-sizing: border-box;margin-bottom: 0.5em;}#sk-container-id-2 div.sk-estimator:hover {background-color: #d4ebff;}#sk-container-id-2 div.sk-parallel-item::after {content: \"\";width: 100%;border-bottom: 1px solid gray;flex-grow: 1;}#sk-container-id-2 div.sk-label:hover label.sk-toggleable__label {background-color: #d4ebff;}#sk-container-id-2 div.sk-serial::before {content: \"\";position: absolute;border-left: 1px solid gray;box-sizing: border-box;top: 0;bottom: 0;left: 50%;z-index: 0;}#sk-container-id-2 div.sk-serial {display: flex;flex-direction: column;align-items: center;background-color: white;padding-right: 0.2em;padding-left: 0.2em;position: relative;}#sk-container-id-2 div.sk-item {position: relative;z-index: 1;}#sk-container-id-2 div.sk-parallel {display: flex;align-items: stretch;justify-content: center;background-color: white;position: relative;}#sk-container-id-2 div.sk-item::before, #sk-container-id-2 div.sk-parallel-item::before {content: \"\";position: absolute;border-left: 1px solid gray;box-sizing: border-box;top: 0;bottom: 0;left: 50%;z-index: -1;}#sk-container-id-2 div.sk-parallel-item {display: flex;flex-direction: column;z-index: 1;position: relative;background-color: white;}#sk-container-id-2 div.sk-parallel-item:first-child::after {align-self: flex-end;width: 50%;}#sk-container-id-2 div.sk-parallel-item:last-child::after {align-self: flex-start;width: 50%;}#sk-container-id-2 div.sk-parallel-item:only-child::after {width: 0;}#sk-container-id-2 div.sk-dashed-wrapped {border: 1px dashed gray;margin: 0 0.4em 0.5em 0.4em;box-sizing: border-box;padding-bottom: 0.4em;background-color: white;}#sk-container-id-2 div.sk-label label {font-family: monospace;font-weight: bold;display: inline-block;line-height: 1.2em;}#sk-container-id-2 div.sk-label-container {text-align: center;}#sk-container-id-2 div.sk-container {/* jupyter's `normalize.less` sets `[hidden] { display: none; }` but bootstrap.min.css set `[hidden] { display: none !important; }` so we also need the `!important` here to be able to override the default hidden behavior on the sphinx rendered scikit-learn.org. See: https://github.com/scikit-learn/scikit-learn/issues/21755 */display: inline-block !important;position: relative;}#sk-container-id-2 div.sk-text-repr-fallback {display: none;}</style><div id=\"sk-container-id-2\" class=\"sk-top-container\"><div class=\"sk-text-repr-fallback\"><pre>Pipeline(steps=[(&#x27;preprocessor&#x27;,\n",
              "                 ColumnTransformer(transformers=[(&#x27;num&#x27;,\n",
              "                                                  Pipeline(steps=[(&#x27;imputer&#x27;,\n",
              "                                                                   SimpleImputer()),\n",
              "                                                                  (&#x27;scaler&#x27;,\n",
              "                                                                   StandardScaler())]),\n",
              "                                                  Index([&#x27;PRCP_A&#x27;, &#x27;SNWD_A&#x27;, &#x27;TMAX_A&#x27;, &#x27;TMIN_A&#x27;, &#x27;TAVG_A&#x27;, &#x27;PRCP_B&#x27;, &#x27;SNWD_B&#x27;,\n",
              "       &#x27;TMAX_B&#x27;, &#x27;TMIN_B&#x27;, &#x27;TAVG_B&#x27;, &#x27;PRCP_C&#x27;, &#x27;SNWD_C&#x27;, &#x27;TMAX_C&#x27;, &#x27;TMIN_C&#x27;,\n",
              "       &#x27;TAVG_C&#x27;, &#x27;day&#x27;, &#x27;month&#x27;, &#x27;year&#x27;],\n",
              "      dtype=&#x27;object&#x27;)),\n",
              "                                                 (&#x27;cat&#x27;,\n",
              "                                                  Pipeline(steps=[(...\n",
              "                                                      multi_strategy=None,\n",
              "                                                      n_estimators=None,\n",
              "                                                      n_jobs=None,\n",
              "                                                      num_parallel_tree=None,\n",
              "                                                      predictor=&#x27;gpu_predictor&#x27;, ...),\n",
              "                               n_jobs=-1, random_state=42,\n",
              "                               scoring=&#x27;neg_mean_absolute_error&#x27;,\n",
              "                               search_spaces={&#x27;colsample_bytree&#x27;: (0.5, 1.0),\n",
              "                                              &#x27;gamma&#x27;: (0, 0.5),\n",
              "                                              &#x27;learning_rate&#x27;: (0.01, 0.3),\n",
              "                                              &#x27;max_depth&#x27;: (3, 10),\n",
              "                                              &#x27;n_estimators&#x27;: (100, 1000),\n",
              "                                              &#x27;reg_alpha&#x27;: (0, 10),\n",
              "                                              &#x27;reg_lambda&#x27;: (0, 10),\n",
              "                                              &#x27;subsample&#x27;: (0.5, 1.0)}))])</pre><b>In a Jupyter environment, please rerun this cell to show the HTML representation or trust the notebook. <br />On GitHub, the HTML representation is unable to render, please try loading this page with nbviewer.org.</b></div><div class=\"sk-container\" hidden><div class=\"sk-item sk-dashed-wrapped\"><div class=\"sk-label-container\"><div class=\"sk-label sk-toggleable\"><input class=\"sk-toggleable__control sk-hidden--visually\" id=\"sk-estimator-id-12\" type=\"checkbox\" ><label for=\"sk-estimator-id-12\" class=\"sk-toggleable__label sk-toggleable__label-arrow\">Pipeline</label><div class=\"sk-toggleable__content\"><pre>Pipeline(steps=[(&#x27;preprocessor&#x27;,\n",
              "                 ColumnTransformer(transformers=[(&#x27;num&#x27;,\n",
              "                                                  Pipeline(steps=[(&#x27;imputer&#x27;,\n",
              "                                                                   SimpleImputer()),\n",
              "                                                                  (&#x27;scaler&#x27;,\n",
              "                                                                   StandardScaler())]),\n",
              "                                                  Index([&#x27;PRCP_A&#x27;, &#x27;SNWD_A&#x27;, &#x27;TMAX_A&#x27;, &#x27;TMIN_A&#x27;, &#x27;TAVG_A&#x27;, &#x27;PRCP_B&#x27;, &#x27;SNWD_B&#x27;,\n",
              "       &#x27;TMAX_B&#x27;, &#x27;TMIN_B&#x27;, &#x27;TAVG_B&#x27;, &#x27;PRCP_C&#x27;, &#x27;SNWD_C&#x27;, &#x27;TMAX_C&#x27;, &#x27;TMIN_C&#x27;,\n",
              "       &#x27;TAVG_C&#x27;, &#x27;day&#x27;, &#x27;month&#x27;, &#x27;year&#x27;],\n",
              "      dtype=&#x27;object&#x27;)),\n",
              "                                                 (&#x27;cat&#x27;,\n",
              "                                                  Pipeline(steps=[(...\n",
              "                                                      multi_strategy=None,\n",
              "                                                      n_estimators=None,\n",
              "                                                      n_jobs=None,\n",
              "                                                      num_parallel_tree=None,\n",
              "                                                      predictor=&#x27;gpu_predictor&#x27;, ...),\n",
              "                               n_jobs=-1, random_state=42,\n",
              "                               scoring=&#x27;neg_mean_absolute_error&#x27;,\n",
              "                               search_spaces={&#x27;colsample_bytree&#x27;: (0.5, 1.0),\n",
              "                                              &#x27;gamma&#x27;: (0, 0.5),\n",
              "                                              &#x27;learning_rate&#x27;: (0.01, 0.3),\n",
              "                                              &#x27;max_depth&#x27;: (3, 10),\n",
              "                                              &#x27;n_estimators&#x27;: (100, 1000),\n",
              "                                              &#x27;reg_alpha&#x27;: (0, 10),\n",
              "                                              &#x27;reg_lambda&#x27;: (0, 10),\n",
              "                                              &#x27;subsample&#x27;: (0.5, 1.0)}))])</pre></div></div></div><div class=\"sk-serial\"><div class=\"sk-item sk-dashed-wrapped\"><div class=\"sk-label-container\"><div class=\"sk-label sk-toggleable\"><input class=\"sk-toggleable__control sk-hidden--visually\" id=\"sk-estimator-id-13\" type=\"checkbox\" ><label for=\"sk-estimator-id-13\" class=\"sk-toggleable__label sk-toggleable__label-arrow\">preprocessor: ColumnTransformer</label><div class=\"sk-toggleable__content\"><pre>ColumnTransformer(transformers=[(&#x27;num&#x27;,\n",
              "                                 Pipeline(steps=[(&#x27;imputer&#x27;, SimpleImputer()),\n",
              "                                                 (&#x27;scaler&#x27;, StandardScaler())]),\n",
              "                                 Index([&#x27;PRCP_A&#x27;, &#x27;SNWD_A&#x27;, &#x27;TMAX_A&#x27;, &#x27;TMIN_A&#x27;, &#x27;TAVG_A&#x27;, &#x27;PRCP_B&#x27;, &#x27;SNWD_B&#x27;,\n",
              "       &#x27;TMAX_B&#x27;, &#x27;TMIN_B&#x27;, &#x27;TAVG_B&#x27;, &#x27;PRCP_C&#x27;, &#x27;SNWD_C&#x27;, &#x27;TMAX_C&#x27;, &#x27;TMIN_C&#x27;,\n",
              "       &#x27;TAVG_C&#x27;, &#x27;day&#x27;, &#x27;month&#x27;, &#x27;year&#x27;],\n",
              "      dtype=&#x27;object&#x27;)),\n",
              "                                (&#x27;cat&#x27;,\n",
              "                                 Pipeline(steps=[(&#x27;imputer&#x27;,\n",
              "                                                  SimpleImputer(strategy=&#x27;most_frequent&#x27;)),\n",
              "                                                 (&#x27;onehot&#x27;,\n",
              "                                                  OneHotEncoder(handle_unknown=&#x27;ignore&#x27;))]),\n",
              "                                 Index([], dtype=&#x27;object&#x27;))])</pre></div></div></div><div class=\"sk-parallel\"><div class=\"sk-parallel-item\"><div class=\"sk-item\"><div class=\"sk-label-container\"><div class=\"sk-label sk-toggleable\"><input class=\"sk-toggleable__control sk-hidden--visually\" id=\"sk-estimator-id-14\" type=\"checkbox\" ><label for=\"sk-estimator-id-14\" class=\"sk-toggleable__label sk-toggleable__label-arrow\">num</label><div class=\"sk-toggleable__content\"><pre>Index([&#x27;PRCP_A&#x27;, &#x27;SNWD_A&#x27;, &#x27;TMAX_A&#x27;, &#x27;TMIN_A&#x27;, &#x27;TAVG_A&#x27;, &#x27;PRCP_B&#x27;, &#x27;SNWD_B&#x27;,\n",
              "       &#x27;TMAX_B&#x27;, &#x27;TMIN_B&#x27;, &#x27;TAVG_B&#x27;, &#x27;PRCP_C&#x27;, &#x27;SNWD_C&#x27;, &#x27;TMAX_C&#x27;, &#x27;TMIN_C&#x27;,\n",
              "       &#x27;TAVG_C&#x27;, &#x27;day&#x27;, &#x27;month&#x27;, &#x27;year&#x27;],\n",
              "      dtype=&#x27;object&#x27;)</pre></div></div></div><div class=\"sk-serial\"><div class=\"sk-item\"><div class=\"sk-serial\"><div class=\"sk-item\"><div class=\"sk-estimator sk-toggleable\"><input class=\"sk-toggleable__control sk-hidden--visually\" id=\"sk-estimator-id-15\" type=\"checkbox\" ><label for=\"sk-estimator-id-15\" class=\"sk-toggleable__label sk-toggleable__label-arrow\">SimpleImputer</label><div class=\"sk-toggleable__content\"><pre>SimpleImputer()</pre></div></div></div><div class=\"sk-item\"><div class=\"sk-estimator sk-toggleable\"><input class=\"sk-toggleable__control sk-hidden--visually\" id=\"sk-estimator-id-16\" type=\"checkbox\" ><label for=\"sk-estimator-id-16\" class=\"sk-toggleable__label sk-toggleable__label-arrow\">StandardScaler</label><div class=\"sk-toggleable__content\"><pre>StandardScaler()</pre></div></div></div></div></div></div></div></div><div class=\"sk-parallel-item\"><div class=\"sk-item\"><div class=\"sk-label-container\"><div class=\"sk-label sk-toggleable\"><input class=\"sk-toggleable__control sk-hidden--visually\" id=\"sk-estimator-id-17\" type=\"checkbox\" ><label for=\"sk-estimator-id-17\" class=\"sk-toggleable__label sk-toggleable__label-arrow\">cat</label><div class=\"sk-toggleable__content\"><pre>Index([], dtype=&#x27;object&#x27;)</pre></div></div></div><div class=\"sk-serial\"><div class=\"sk-item\"><div class=\"sk-serial\"><div class=\"sk-item\"><div class=\"sk-estimator sk-toggleable\"><input class=\"sk-toggleable__control sk-hidden--visually\" id=\"sk-estimator-id-18\" type=\"checkbox\" ><label for=\"sk-estimator-id-18\" class=\"sk-toggleable__label sk-toggleable__label-arrow\">SimpleImputer</label><div class=\"sk-toggleable__content\"><pre>SimpleImputer(strategy=&#x27;most_frequent&#x27;)</pre></div></div></div><div class=\"sk-item\"><div class=\"sk-estimator sk-toggleable\"><input class=\"sk-toggleable__control sk-hidden--visually\" id=\"sk-estimator-id-19\" type=\"checkbox\" ><label for=\"sk-estimator-id-19\" class=\"sk-toggleable__label sk-toggleable__label-arrow\">OneHotEncoder</label><div class=\"sk-toggleable__content\"><pre>OneHotEncoder(handle_unknown=&#x27;ignore&#x27;)</pre></div></div></div></div></div></div></div></div></div></div><div class=\"sk-item sk-dashed-wrapped\"><div class=\"sk-label-container\"><div class=\"sk-label sk-toggleable\"><input class=\"sk-toggleable__control sk-hidden--visually\" id=\"sk-estimator-id-20\" type=\"checkbox\" ><label for=\"sk-estimator-id-20\" class=\"sk-toggleable__label sk-toggleable__label-arrow\">opt: BayesSearchCV</label><div class=\"sk-toggleable__content\"><pre>BayesSearchCV(cv=3,\n",
              "              estimator=XGBRegressor(base_score=None, booster=None,\n",
              "                                     callbacks=None, colsample_bylevel=None,\n",
              "                                     colsample_bynode=None,\n",
              "                                     colsample_bytree=None, device=None,\n",
              "                                     early_stopping_rounds=None,\n",
              "                                     enable_categorical=False, eval_metric=None,\n",
              "                                     feature_types=None, gamma=None,\n",
              "                                     grow_policy=None, importance_type=None,\n",
              "                                     interaction_constraints=None,\n",
              "                                     learning_rate=None,...\n",
              "                                     multi_strategy=None, n_estimators=None,\n",
              "                                     n_jobs=None, num_parallel_tree=None,\n",
              "                                     predictor=&#x27;gpu_predictor&#x27;, ...),\n",
              "              n_jobs=-1, random_state=42, scoring=&#x27;neg_mean_absolute_error&#x27;,\n",
              "              search_spaces={&#x27;colsample_bytree&#x27;: (0.5, 1.0), &#x27;gamma&#x27;: (0, 0.5),\n",
              "                             &#x27;learning_rate&#x27;: (0.01, 0.3), &#x27;max_depth&#x27;: (3, 10),\n",
              "                             &#x27;n_estimators&#x27;: (100, 1000), &#x27;reg_alpha&#x27;: (0, 10),\n",
              "                             &#x27;reg_lambda&#x27;: (0, 10), &#x27;subsample&#x27;: (0.5, 1.0)})</pre></div></div></div><div class=\"sk-parallel\"><div class=\"sk-parallel-item\"><div class=\"sk-item\"><div class=\"sk-label-container\"><div class=\"sk-label sk-toggleable\"><input class=\"sk-toggleable__control sk-hidden--visually\" id=\"sk-estimator-id-21\" type=\"checkbox\" ><label for=\"sk-estimator-id-21\" class=\"sk-toggleable__label sk-toggleable__label-arrow\">estimator: XGBRegressor</label><div class=\"sk-toggleable__content\"><pre>XGBRegressor(base_score=None, booster=None, callbacks=None,\n",
              "             colsample_bylevel=None, colsample_bynode=None,\n",
              "             colsample_bytree=None, device=None, early_stopping_rounds=None,\n",
              "             enable_categorical=False, eval_metric=None, feature_types=None,\n",
              "             gamma=None, grow_policy=None, importance_type=None,\n",
              "             interaction_constraints=None, learning_rate=None, max_bin=None,\n",
              "             max_cat_threshold=None, max_cat_to_onehot=None,\n",
              "             max_delta_step=None, max_depth=None, max_leaves=None,\n",
              "             min_child_weight=None, missing=nan, monotone_constraints=None,\n",
              "             multi_strategy=None, n_estimators=None, n_jobs=None,\n",
              "             num_parallel_tree=None, predictor=&#x27;gpu_predictor&#x27;, ...)</pre></div></div></div><div class=\"sk-serial\"><div class=\"sk-item\"><div class=\"sk-estimator sk-toggleable\"><input class=\"sk-toggleable__control sk-hidden--visually\" id=\"sk-estimator-id-22\" type=\"checkbox\" ><label for=\"sk-estimator-id-22\" class=\"sk-toggleable__label sk-toggleable__label-arrow\">XGBRegressor</label><div class=\"sk-toggleable__content\"><pre>XGBRegressor(base_score=None, booster=None, callbacks=None,\n",
              "             colsample_bylevel=None, colsample_bynode=None,\n",
              "             colsample_bytree=None, device=None, early_stopping_rounds=None,\n",
              "             enable_categorical=False, eval_metric=None, feature_types=None,\n",
              "             gamma=None, grow_policy=None, importance_type=None,\n",
              "             interaction_constraints=None, learning_rate=None, max_bin=None,\n",
              "             max_cat_threshold=None, max_cat_to_onehot=None,\n",
              "             max_delta_step=None, max_depth=None, max_leaves=None,\n",
              "             min_child_weight=None, missing=nan, monotone_constraints=None,\n",
              "             multi_strategy=None, n_estimators=None, n_jobs=None,\n",
              "             num_parallel_tree=None, predictor=&#x27;gpu_predictor&#x27;, ...)</pre></div></div></div></div></div></div></div></div></div></div></div></div>"
            ]
          },
          "metadata": {},
          "execution_count": 18
        }
      ]
    },
    {
      "cell_type": "code",
      "source": [
        "# Make predictions and evaluate\n",
        "y_pred = pipeline.predict(X_test)\n",
        "mae = mean_absolute_error(y_test, y_pred)\n",
        "\n",
        "print(f'Mean Absolute Error on test set: {mae}')"
      ],
      "metadata": {
        "colab": {
          "base_uri": "https://localhost:8080/"
        },
        "id": "iV3IHiJe07sA",
        "outputId": "1e788733-4c32-429a-8e7a-a7a4014deb5b"
      },
      "execution_count": 19,
      "outputs": [
        {
          "output_type": "stream",
          "name": "stdout",
          "text": [
            "Mean Absolute Error on test set: 1.5525494784843632\n"
          ]
        },
        {
          "output_type": "stream",
          "name": "stderr",
          "text": [
            "/usr/local/lib/python3.10/dist-packages/xgboost/core.py:158: UserWarning: [15:16:56] WARNING: /workspace/src/common/error_msg.cc:27: The tree method `gpu_hist` is deprecated since 2.0.0. To use GPU training, set the `device` parameter to CUDA instead.\n",
            "\n",
            "    E.g. tree_method = \"hist\", device = \"cuda\"\n",
            "\n",
            "  warnings.warn(smsg, UserWarning)\n",
            "/usr/local/lib/python3.10/dist-packages/xgboost/core.py:158: UserWarning: [15:16:56] WARNING: /workspace/src/common/error_msg.cc:58: Falling back to prediction using DMatrix due to mismatched devices. This might lead to higher memory usage and slower performance. XGBoost is running on: cuda:0, while the input data is on: cpu.\n",
            "Potential solutions:\n",
            "- Use a data structure that matches the device ordinal in the booster.\n",
            "- Set the device for booster before call to inplace_predict.\n",
            "\n",
            "This warning will only be shown once.\n",
            "\n",
            "  warnings.warn(smsg, UserWarning)\n"
          ]
        }
      ]
    },
    {
      "cell_type": "code",
      "source": [
        "# Load the new unseen dataset (make sure it has the same features as the training set)\n",
        "new_data = pd.read_csv('/content/TestingSet.csv')\n",
        "\n",
        "# Make predictions\n",
        "predictions = pipeline.predict(new_data)\n"
      ],
      "metadata": {
        "id": "pX7WQiHu10zm"
      },
      "execution_count": 20,
      "outputs": []
    },
    {
      "cell_type": "code",
      "source": [
        "len(predictions)"
      ],
      "metadata": {
        "colab": {
          "base_uri": "https://localhost:8080/"
        },
        "id": "l3HpXT8W4GVt",
        "outputId": "27850838-2a10-40c7-83c4-183431d9dbf2"
      },
      "execution_count": 21,
      "outputs": [
        {
          "output_type": "execute_result",
          "data": {
            "text/plain": [
              "203"
            ]
          },
          "metadata": {},
          "execution_count": 21
        }
      ]
    },
    {
      "cell_type": "code",
      "source": [
        "predictions\n"
      ],
      "metadata": {
        "colab": {
          "base_uri": "https://localhost:8080/"
        },
        "id": "yZG9IiFe4HWi",
        "outputId": "55281e76-6cd8-4481-e82b-20d017c3a965"
      },
      "execution_count": 22,
      "outputs": [
        {
          "output_type": "execute_result",
          "data": {
            "text/plain": [
              "array([ 1.9046397e+00,  7.4252682e+00,  9.9139233e+00,  1.0270355e+01,\n",
              "        1.9727337e+01, -6.3935661e-01,  2.0529676e+01,  5.5298662e+00,\n",
              "        8.2759018e+00,  2.1181988e+01,  8.0826635e+00,  9.1458807e+00,\n",
              "        6.8780413e+00,  2.4506933e+01,  1.9900032e+01, -2.5185137e+00,\n",
              "        1.8730412e+01,  2.7091372e+01,  7.1392822e-01,  4.5528164e+00,\n",
              "        2.4522793e+01, -5.3180876e+00,  1.6450548e+00, -5.0626898e+00,\n",
              "        1.7375690e+01, -7.5574303e+00,  1.7123137e+00,  2.5217867e+01,\n",
              "        8.6674194e+00,  2.3125010e+00,  2.4708096e+01,  2.2509666e+01,\n",
              "        2.0260834e+01,  2.2472752e+01,  4.1401768e-01,  2.0633717e+01,\n",
              "        2.3258303e+01,  2.2709631e+01, -1.0485098e+01, -9.8411160e+00,\n",
              "        2.0939611e+01, -7.0990086e+00, -7.8205738e+00,  2.1301380e+01,\n",
              "        1.4674505e+01,  2.7245796e+01,  1.9043362e+01, -1.2780012e+01,\n",
              "       -1.7640863e+01, -5.1162386e+00, -6.4334869e-03,  2.4012142e+01,\n",
              "        2.3743061e+01, -1.2971697e+00,  4.0373764e+00,  1.9010889e+01,\n",
              "        1.4530363e+00, -9.6632614e+00,  2.0632946e+01, -1.5270002e+01,\n",
              "        7.2287540e+00,  1.3734213e+01,  1.0919867e+00,  2.1804041e+01,\n",
              "        1.8137655e+01, -6.4783955e-01,  1.9863064e+01,  1.3331966e+00,\n",
              "        9.3135195e+00,  1.2716043e+01,  1.4938299e+01, -3.9546089e+00,\n",
              "        1.4726318e+01,  1.9834940e+01,  8.1959257e+00,  2.1184525e+01,\n",
              "        2.5040239e+01,  6.0236897e+00,  5.7118063e+00, -4.2550297e+00,\n",
              "        5.9792509e+00,  7.0416594e+00,  1.7662407e+01,  8.5601244e+00,\n",
              "        2.6608227e+01,  2.5898037e+00,  7.7970328e+00,  1.0476866e+00,\n",
              "        1.0917180e+01, -7.2298374e+00,  4.9713907e+00, -6.3277397e+00,\n",
              "        2.2833744e+01,  1.2258933e+01,  1.3230780e+01,  5.1688666e+00,\n",
              "       -1.5067423e+01,  2.2257399e+01,  2.5083950e+01,  6.8341751e+00,\n",
              "        4.8611355e-01, -5.9439640e+00,  2.0297615e+01, -2.0855255e+00,\n",
              "       -4.8821526e+00,  1.3660961e+01,  7.2535467e-01, -3.1143570e+00,\n",
              "        2.2574141e+01,  2.0084492e+01, -4.1362715e+00,  1.7220306e+01,\n",
              "        7.2567067e+00,  2.5624664e+01,  2.2535990e+01,  3.9245958e+00,\n",
              "        2.1385448e+01,  3.4599562e+00,  1.5453974e+01, -1.6423174e+01,\n",
              "       -1.7902279e+00,  1.2884162e+01, -9.3481579e+00,  2.5042969e+01,\n",
              "        2.6711241e+01,  3.9154663e+00, -1.7166393e+01, -7.8941631e-01,\n",
              "       -5.1108828e+00,  2.7805370e+01,  1.1414115e+01, -2.0380487e+00,\n",
              "        1.0927057e+01,  7.8114643e+00, -3.8680363e+00,  2.0449512e+01,\n",
              "        1.5721402e+00,  1.9669109e+01,  5.1872888e+00,  2.1447529e+01,\n",
              "        1.6352140e+01,  1.9175079e+01,  1.1415052e+00,  2.3694759e+01,\n",
              "       -3.9594393e+00,  1.7586655e+01,  2.0730253e+01,  2.6532518e+01,\n",
              "        2.3811075e+01,  9.1820564e+00,  1.6996122e+01,  2.5306250e+01,\n",
              "        2.5880953e+01,  4.0292015e+00,  1.8263615e+01, -1.7852612e+01,\n",
              "        6.9698586e+00,  2.7332417e+01,  2.3063229e+01,  6.1988831e-03,\n",
              "        2.7085155e+01, -3.3771172e+00,  1.6385073e+01,  4.3807926e+00,\n",
              "        2.4389679e+01, -4.7754669e-01,  8.8029985e+00,  6.5000367e+00,\n",
              "        2.3264418e+00, -9.0825310e+00, -1.1652443e+01,  2.0112244e+01,\n",
              "       -9.4636822e-01, -1.6202927e-02,  1.8848995e+01, -1.7831865e+01,\n",
              "       -5.1186848e+00, -6.4904156e+00,  2.7843413e+00, -4.2370720e+00,\n",
              "        7.4718223e+00,  3.9649515e+00, -3.4049473e+00,  1.4731140e+00,\n",
              "        5.0619612e+00,  1.0743820e+01,  2.0613857e+01, -2.3640270e+00,\n",
              "        1.4950752e+01, -2.4915323e+00,  2.7299477e+01,  4.6518307e+00,\n",
              "       -2.8656721e+00,  1.9973015e+01,  1.1112360e+01, -4.2396097e+00,\n",
              "        3.3781123e+00,  2.3999401e+01,  1.9785070e+01,  2.0115925e+01,\n",
              "        2.4633862e+01, -1.1005264e+01,  9.1747494e+00], dtype=float32)"
            ]
          },
          "metadata": {},
          "execution_count": 22
        }
      ]
    },
    {
      "cell_type": "code",
      "source": [
        "import numpy as np\n",
        "import pandas as pd\n",
        "\n",
        "\n",
        "\n",
        "# Create a DataFrame\n",
        "df = pd.DataFrame({\n",
        "    'INDEX': np.arange(len(predictions)),  # Index column\n",
        "    'TAVG': predictions                  # TAVG column\n",
        "})\n",
        "\n",
        "# Write to CSV file\n",
        "df.to_csv('output102.csv', index=False)"
      ],
      "metadata": {
        "id": "vYnw3K6L5f-z"
      },
      "execution_count": 23,
      "outputs": []
    },
    {
      "cell_type": "code",
      "source": [],
      "metadata": {
        "id": "VfVseZRw941n"
      },
      "execution_count": null,
      "outputs": []
    }
  ],
  "metadata": {
    "colab": {
      "name": "beginner.ipynb",
      "provenance": [],
      "machine_shape": "hm",
      "gpuType": "L4"
    },
    "kernelspec": {
      "display_name": "Python 3",
      "name": "python3"
    },
    "accelerator": "GPU"
  },
  "nbformat": 4,
  "nbformat_minor": 0
}